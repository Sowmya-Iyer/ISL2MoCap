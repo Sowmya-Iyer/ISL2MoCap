{
  "nbformat": 4,
  "nbformat_minor": 0,
  "metadata": {
    "colab": {
      "provenance": []
    },
    "kernelspec": {
      "name": "python3",
      "display_name": "Python 3"
    }
  },
  "cells": [
    {
      "cell_type": "code",
      "metadata": {
        "colab": {
          "base_uri": "https://localhost:8080/"
        },
        "id": "AzLtRl-A7nAi",
        "outputId": "1d5bc2e0-d67d-44d7-8f65-de56ba555f20"
      },
      "source": [
        "from google.colab import drive\n",
        "drive.mount('/content/drive')"
      ],
      "execution_count": null,
      "outputs": [
        {
          "output_type": "stream",
          "text": [
            "Drive already mounted at /content/drive; to attempt to forcibly remount, call drive.mount(\"/content/drive\", force_remount=True).\n"
          ],
          "name": "stdout"
        }
      ]
    },
    {
      "cell_type": "code",
      "metadata": {
        "colab": {
          "base_uri": "https://localhost:8080/"
        },
        "id": "HUsB3FZ47sit",
        "outputId": "987e6dbb-937d-4fcb-92c2-b91d29c38d55"
      },
      "source": [
        "!pip install pytube"
      ],
      "execution_count": null,
      "outputs": [
        {
          "output_type": "stream",
          "text": [
            "Requirement already satisfied: pytube in /usr/local/lib/python3.6/dist-packages (10.0.0)\n",
            "Requirement already satisfied: typing-extensions in /usr/local/lib/python3.6/dist-packages (from pytube) (3.7.4.3)\n"
          ],
          "name": "stdout"
        }
      ]
    },
    {
      "cell_type": "code",
      "metadata": {
        "id": "7vEoDNvU7wCH"
      },
      "source": [
        "from urllib.parse import urlparse, parse_qs\n",
        "from pytube import Playlist\n",
        "from IPython.display import YouTubeVideo\n",
        "from pytube import Playlist\n",
        "pl = Playlist(\"https://www.youtube.com/watch?v=l7GQ-fR-DsA&list=PLFjydPMg4Dapq9vcdmGyHs8uJhiqMgUrX\")\n",
        "print(pl)"
      ],
      "execution_count": null,
      "outputs": []
    },
    {
      "cell_type": "code",
      "metadata": {
        "id": "z9bCy1aFLodR"
      },
      "source": [
        "name=[]\n",
        "from pytube import YouTube\n",
        "for url in pl[31:50]:\n",
        "  yt=YouTube(url)\n",
        "  print(yt.title)\n",
        "  n=yt.title +\".mp4\"\n",
        "  name.append(n)\n",
        "  stream = yt.streams.first()\n",
        "  stream.download('/content/drive/MyDrive/ISL Openpose/Videos')"
      ],
      "execution_count": null,
      "outputs": []
    }
  ]
}